{
  "nbformat": 4,
  "nbformat_minor": 0,
  "metadata": {
    "colab": {
      "provenance": [],
      "authorship_tag": "ABX9TyMxITpKMHfUrA1WcfjByavt",
      "include_colab_link": true
    },
    "kernelspec": {
      "name": "python3",
      "display_name": "Python 3"
    },
    "language_info": {
      "name": "python"
    }
  },
  "cells": [
    {
      "cell_type": "markdown",
      "metadata": {
        "id": "view-in-github",
        "colab_type": "text"
      },
      "source": [
        "<a href=\"https://colab.research.google.com/github/Rishikesh-Guptha/amazonwebscrapping/blob/main/AmazonWebScraping.ipynb\" target=\"_parent\"><img src=\"https://colab.research.google.com/assets/colab-badge.svg\" alt=\"Open In Colab\"/></a>"
      ]
    },
    {
      "cell_type": "code",
      "source": [
        "pip install bs4"
      ],
      "metadata": {
        "colab": {
          "base_uri": "https://localhost:8080/"
        },
        "id": "lK8ngm5XMBYr",
        "outputId": "46623730-87b9-42ed-94ad-3d7e83c7ea28"
      },
      "execution_count": null,
      "outputs": [
        {
          "output_type": "stream",
          "name": "stdout",
          "text": [
            "Collecting bs4\n",
            "  Downloading bs4-0.0.2-py2.py3-none-any.whl.metadata (411 bytes)\n",
            "Requirement already satisfied: beautifulsoup4 in /usr/local/lib/python3.10/dist-packages (from bs4) (4.12.3)\n",
            "Requirement already satisfied: soupsieve>1.2 in /usr/local/lib/python3.10/dist-packages (from beautifulsoup4->bs4) (2.6)\n",
            "Downloading bs4-0.0.2-py2.py3-none-any.whl (1.2 kB)\n",
            "Installing collected packages: bs4\n",
            "Successfully installed bs4-0.0.2\n"
          ]
        }
      ]
    },
    {
      "cell_type": "code",
      "source": [
        "pip install pandas"
      ],
      "metadata": {
        "colab": {
          "base_uri": "https://localhost:8080/"
        },
        "id": "C0geJjUAMEyt",
        "outputId": "558a6520-075a-4fc0-e3ae-1ddd452901b8"
      },
      "execution_count": null,
      "outputs": [
        {
          "output_type": "stream",
          "name": "stdout",
          "text": [
            "Requirement already satisfied: pandas in /usr/local/lib/python3.10/dist-packages (2.2.2)\n",
            "Requirement already satisfied: numpy>=1.22.4 in /usr/local/lib/python3.10/dist-packages (from pandas) (1.26.4)\n",
            "Requirement already satisfied: python-dateutil>=2.8.2 in /usr/local/lib/python3.10/dist-packages (from pandas) (2.8.2)\n",
            "Requirement already satisfied: pytz>=2020.1 in /usr/local/lib/python3.10/dist-packages (from pandas) (2024.2)\n",
            "Requirement already satisfied: tzdata>=2022.7 in /usr/local/lib/python3.10/dist-packages (from pandas) (2024.2)\n",
            "Requirement already satisfied: six>=1.5 in /usr/local/lib/python3.10/dist-packages (from python-dateutil>=2.8.2->pandas) (1.16.0)\n"
          ]
        }
      ]
    },
    {
      "cell_type": "code",
      "execution_count": null,
      "metadata": {
        "colab": {
          "base_uri": "https://localhost:8080/"
        },
        "id": "AqaaaLTUL1J1",
        "outputId": "412ffce4-344f-4fb8-df19-f47b2901984f"
      },
      "outputs": [
        {
          "output_type": "stream",
          "name": "stdout",
          "text": [
            "Requirement already satisfied: requests in /usr/local/lib/python3.10/dist-packages (2.32.3)\n",
            "Requirement already satisfied: charset-normalizer<4,>=2 in /usr/local/lib/python3.10/dist-packages (from requests) (3.4.0)\n",
            "Requirement already satisfied: idna<4,>=2.5 in /usr/local/lib/python3.10/dist-packages (from requests) (3.10)\n",
            "Requirement already satisfied: urllib3<3,>=1.21.1 in /usr/local/lib/python3.10/dist-packages (from requests) (2.2.3)\n",
            "Requirement already satisfied: certifi>=2017.4.17 in /usr/local/lib/python3.10/dist-packages (from requests) (2024.8.30)\n"
          ]
        }
      ],
      "source": [
        "pip install requests"
      ]
    },
    {
      "cell_type": "code",
      "source": [
        "from bs4 import BeautifulSoup\n",
        "import pandas as pd\n",
        "import requests"
      ],
      "metadata": {
        "id": "2-G7IFGhNZwW"
      },
      "execution_count": null,
      "outputs": []
    },
    {
      "cell_type": "code",
      "source": [
        "url=\"https://www.amazon.in/s?k=phones\"\n",
        "HEADER={\n",
        "    \"User-Agent\": \"Mozilla/5.0 (Windows NT 10.0; Win64; x64) AppleWebKit/537.36 (KHTML, like Gecko) Chrome/114.0.0.0 Safari/537.36\"\n",
        "}                                                 #using headers to make the request seem like legit from the browser\n",
        "response=requests.get(url,headers=HEADER)         #sending request to that url"
      ],
      "metadata": {
        "id": "VjFRk-h4NfUk"
      },
      "execution_count": null,
      "outputs": []
    },
    {
      "cell_type": "code",
      "source": [
        "type(response.content)"
      ],
      "metadata": {
        "colab": {
          "base_uri": "https://localhost:8080/"
        },
        "id": "dsysvNIzNgHy",
        "outputId": "fe173969-d090-49b4-8636-d3e158ab17f4"
      },
      "execution_count": null,
      "outputs": [
        {
          "output_type": "execute_result",
          "data": {
            "text/plain": [
              "bytes"
            ]
          },
          "metadata": {},
          "execution_count": 10
        }
      ]
    },
    {
      "cell_type": "code",
      "source": [
        "page=BeautifulSoup(response.content,\"html.parser\")      # This is done to convert the content which is in bytes to html format"
      ],
      "metadata": {
        "id": "II0heV-lNgKK"
      },
      "execution_count": null,
      "outputs": []
    },
    {
      "cell_type": "code",
      "source": [
        "links=page.find(\"span\",attrs={\"class\":\"rush-component s-latency-cf-section\"}).find_all(\"a\",attrs={\"class\":\"a-link-normal s-underline-text s-underline-link-text s-link-style a-text-normal\"})\n",
        "# print(links[0].text)"
      ],
      "metadata": {
        "colab": {
          "base_uri": "https://localhost:8080/"
        },
        "id": "h5zb-JAoNgNj",
        "outputId": "2f42255a-fe68-4fa7-97d6-cec851025b6a"
      },
      "execution_count": null,
      "outputs": [
        {
          "output_type": "stream",
          "name": "stdout",
          "text": [
            "realme NARZO N61 (Voyage Blue,6GB RAM+128GB Storage) 90Hz Eye Comfort Display | IP54 Dust & Water Resistance | 48-Month Fluency | Charger in The Box \n"
          ]
        }
      ]
    },
    {
      "cell_type": "code",
      "source": [
        "link_list=[]\n",
        "for link in links:\n",
        "    link_list.append(\"https://amazon.in\"+link.get(\"href\"))\n",
        "print(link_list[0])"
      ],
      "metadata": {
        "colab": {
          "base_uri": "https://localhost:8080/"
        },
        "id": "WTXaF00UfOm4",
        "outputId": "0e35913a-8537-4315-9d92-28a808168ae5"
      },
      "execution_count": null,
      "outputs": [
        {
          "output_type": "stream",
          "name": "stdout",
          "text": [
            "https://amazon.in/realme-Storage-Comfort-Resistance-48-Month/dp/B0D947DTLT/ref=sr_1_1?dib=eyJ2IjoiMSJ9.-3XapyEtOcgfCY4GmoKYM3K_AYDqviQeX9uyqmjfrFqgOGsaV1dgsVeLOIN9drScV_aK9mFQF1swKS7GgX-imUC9whjs3Wzc4RHC1741KiTcqrWwKp3rkk9EISjL7fbf7XDBGwnZJ3IZXD-uyj45FJ-2WA2mKQnQTSXk95VgdeP1syVfo08Sj3tvOympL0mtutJdL486QhxhrYMCVGAphTwT3WTq3bsTTerw2BMJcw8.GfiN17lf3TGKNLucNraHFdx9OLYiPdwFB_iKbn0NN_0&dib_tag=se&keywords=phones&qid=1733492832&sr=8-1\n"
          ]
        }
      ]
    },
    {
      "cell_type": "code",
      "source": [
        "def get_title(soup):\n",
        "    try:\n",
        "        title=soup.find(\"span\",attrs={\"id\":\"productTitle\"}).text.strip()\n",
        "    except AttributeError:\n",
        "        title=\"\"\n",
        "    return title"
      ],
      "metadata": {
        "id": "pNqMP88QoNot"
      },
      "execution_count": null,
      "outputs": []
    },
    {
      "cell_type": "code",
      "source": [
        "def get_price(soup):\n",
        "    try:\n",
        "        price=soup.find(\"span\",attrs={\"class\":\"a-offscreen\"}).text.strip()\n",
        "    except AttributeError:\n",
        "        price=\"\"\n",
        "    return price"
      ],
      "metadata": {
        "id": "Dd62TiQ6oOdd"
      },
      "execution_count": null,
      "outputs": []
    },
    {
      "cell_type": "code",
      "source": [
        "def get_rating(soup):\n",
        "    try:\n",
        "        rating=soup.find(\"span\",attrs={\"class\":\"a-icon-alt\"}).text.strip()\n",
        "    except AttributeError:\n",
        "        rating=\"\"\n",
        "    return rating"
      ],
      "metadata": {
        "id": "c8eSiVY_oOg5"
      },
      "execution_count": null,
      "outputs": []
    },
    {
      "cell_type": "code",
      "source": [
        "def get_ram(soup):\n",
        "    try:\n",
        "        ram=soup.find(\"span\",attrs={\"class\":\"a-text-bold\"}).text.strip()\n",
        "    except AttributeError:\n",
        "        ram=\"\"\n",
        "    return ram"
      ],
      "metadata": {
        "id": "2VldOCb6oaCL"
      },
      "execution_count": null,
      "outputs": []
    },
    {
      "cell_type": "code",
      "source": [],
      "metadata": {
        "id": "xgJpL9pLoaFk"
      },
      "execution_count": null,
      "outputs": []
    },
    {
      "cell_type": "code",
      "source": [],
      "metadata": {
        "id": "MAQqN0XXoakn"
      },
      "execution_count": null,
      "outputs": []
    },
    {
      "cell_type": "code",
      "source": [
        "phone_specs={\"Name\":[],\"Price\":[],\"Rating\":[],\"RAM\":[]}"
      ],
      "metadata": {
        "id": "OYF1-V_toaoB"
      },
      "execution_count": null,
      "outputs": []
    },
    {
      "cell_type": "code",
      "source": [
        "for link in link_list:\n",
        "    product_response=requests.get(link,headers=HEADER)\n",
        "    product=BeautifulSoup(product_response.content,\"html.parser\")\n",
        "    phone_specs[\"Name\"].append(get_title(product))\n",
        "    phone_specs[\"Price\"].append(get_price(product))\n",
        "    phone_specs[\"Rating\"].append(get_rating(product))\n",
        "    phone_specs[\"RAM\"].append(get_ram(product))\n"
      ],
      "metadata": {
        "id": "GO-49Q2BfOpW"
      },
      "execution_count": null,
      "outputs": []
    },
    {
      "cell_type": "code",
      "source": [],
      "metadata": {
        "id": "guAe4ROOfOrv"
      },
      "execution_count": null,
      "outputs": []
    },
    {
      "cell_type": "code",
      "source": [],
      "metadata": {
        "id": "qOlvUBUnfOuP"
      },
      "execution_count": null,
      "outputs": []
    },
    {
      "cell_type": "code",
      "source": [],
      "metadata": {
        "id": "8Py3mfAAfOw1"
      },
      "execution_count": null,
      "outputs": []
    },
    {
      "cell_type": "code",
      "source": [],
      "metadata": {
        "id": "snloqOE4fOzZ"
      },
      "execution_count": null,
      "outputs": []
    },
    {
      "cell_type": "code",
      "source": [],
      "metadata": {
        "id": "jbIZjEt2fO2A"
      },
      "execution_count": null,
      "outputs": []
    },
    {
      "cell_type": "code",
      "source": [],
      "metadata": {
        "id": "M3y0P1yMfO4z"
      },
      "execution_count": null,
      "outputs": []
    },
    {
      "cell_type": "code",
      "source": [],
      "metadata": {
        "id": "-lzwoXI_fO7g"
      },
      "execution_count": null,
      "outputs": []
    },
    {
      "cell_type": "code",
      "source": [],
      "metadata": {
        "id": "Nuym4j5HfO--"
      },
      "execution_count": null,
      "outputs": []
    }
  ]
}