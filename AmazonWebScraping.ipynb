{
  "nbformat": 4,
  "nbformat_minor": 0,
  "metadata": {
    "colab": {
      "provenance": [],
      "authorship_tag": "ABX9TyP4tc1/U4bBHLaztK8ZxHKC",
      "include_colab_link": true
    },
    "kernelspec": {
      "name": "python3",
      "display_name": "Python 3"
    },
    "language_info": {
      "name": "python"
    }
  },
  "cells": [
    {
      "cell_type": "markdown",
      "metadata": {
        "id": "view-in-github",
        "colab_type": "text"
      },
      "source": [
        "<a href=\"https://colab.research.google.com/github/Rishikesh-Guptha/amazonwebscrapping/blob/main/AmazonWebScraping.ipynb\" target=\"_parent\"><img src=\"https://colab.research.google.com/assets/colab-badge.svg\" alt=\"Open In Colab\"/></a>"
      ]
    },
    {
      "cell_type": "code",
      "source": [
        "pip install bs4"
      ],
      "metadata": {
        "colab": {
          "base_uri": "https://localhost:8080/"
        },
        "id": "lK8ngm5XMBYr",
        "outputId": "d1ce76c4-2663-4987-f583-1ef601a75251"
      },
      "execution_count": 2,
      "outputs": [
        {
          "output_type": "stream",
          "name": "stdout",
          "text": [
            "Collecting bs4\n",
            "  Downloading bs4-0.0.2-py2.py3-none-any.whl.metadata (411 bytes)\n",
            "Requirement already satisfied: beautifulsoup4 in /usr/local/lib/python3.10/dist-packages (from bs4) (4.12.3)\n",
            "Requirement already satisfied: soupsieve>1.2 in /usr/local/lib/python3.10/dist-packages (from beautifulsoup4->bs4) (2.6)\n",
            "Downloading bs4-0.0.2-py2.py3-none-any.whl (1.2 kB)\n",
            "Installing collected packages: bs4\n",
            "Successfully installed bs4-0.0.2\n"
          ]
        }
      ]
    },
    {
      "cell_type": "code",
      "source": [
        "pip install pandas"
      ],
      "metadata": {
        "colab": {
          "base_uri": "https://localhost:8080/"
        },
        "id": "C0geJjUAMEyt",
        "outputId": "771ae8a2-99e8-4554-dac7-e4a6414bcc43"
      },
      "execution_count": 3,
      "outputs": [
        {
          "output_type": "stream",
          "name": "stdout",
          "text": [
            "Requirement already satisfied: pandas in /usr/local/lib/python3.10/dist-packages (2.2.2)\n",
            "Requirement already satisfied: numpy>=1.22.4 in /usr/local/lib/python3.10/dist-packages (from pandas) (1.26.4)\n",
            "Requirement already satisfied: python-dateutil>=2.8.2 in /usr/local/lib/python3.10/dist-packages (from pandas) (2.8.2)\n",
            "Requirement already satisfied: pytz>=2020.1 in /usr/local/lib/python3.10/dist-packages (from pandas) (2024.2)\n",
            "Requirement already satisfied: tzdata>=2022.7 in /usr/local/lib/python3.10/dist-packages (from pandas) (2024.2)\n",
            "Requirement already satisfied: six>=1.5 in /usr/local/lib/python3.10/dist-packages (from python-dateutil>=2.8.2->pandas) (1.16.0)\n"
          ]
        }
      ]
    },
    {
      "cell_type": "code",
      "execution_count": 4,
      "metadata": {
        "colab": {
          "base_uri": "https://localhost:8080/"
        },
        "id": "AqaaaLTUL1J1",
        "outputId": "ea313bde-bbf6-42ea-977a-e868092879ed"
      },
      "outputs": [
        {
          "output_type": "stream",
          "name": "stdout",
          "text": [
            "Requirement already satisfied: requests in /usr/local/lib/python3.10/dist-packages (2.32.3)\n",
            "Requirement already satisfied: charset-normalizer<4,>=2 in /usr/local/lib/python3.10/dist-packages (from requests) (3.4.0)\n",
            "Requirement already satisfied: idna<4,>=2.5 in /usr/local/lib/python3.10/dist-packages (from requests) (3.10)\n",
            "Requirement already satisfied: urllib3<3,>=1.21.1 in /usr/local/lib/python3.10/dist-packages (from requests) (2.2.3)\n",
            "Requirement already satisfied: certifi>=2017.4.17 in /usr/local/lib/python3.10/dist-packages (from requests) (2024.8.30)\n"
          ]
        }
      ],
      "source": [
        "pip install requests"
      ]
    },
    {
      "cell_type": "code",
      "source": [
        "from bs4 import BeautifulSoup\n",
        "import pandas as pd\n",
        "import requests\n",
        "import re"
      ],
      "metadata": {
        "id": "2-G7IFGhNZwW"
      },
      "execution_count": 51,
      "outputs": []
    },
    {
      "cell_type": "code",
      "source": [
        "url=\"https://www.amazon.in/s?k=phones\"\n",
        "HEADER={\n",
        "    \"User-Agent\": \"Mozilla/5.0 (Windows NT 10.0; Win64; x64) AppleWebKit/537.36 (KHTML, like Gecko) Chrome/117.0.0.0 Safari/537.36\",\n",
        "    \"Accept-Language\": \"en-US,en;q=0.9\",\n",
        "}                                                 #using headers to make the request seem like legit from the browser\n",
        "response=requests.get(url,headers=HEADER)         #sending request to that url"
      ],
      "metadata": {
        "id": "VjFRk-h4NfUk"
      },
      "execution_count": 19,
      "outputs": []
    },
    {
      "cell_type": "code",
      "source": [
        "type(response.content)"
      ],
      "metadata": {
        "colab": {
          "base_uri": "https://localhost:8080/"
        },
        "id": "dsysvNIzNgHy",
        "outputId": "94c58550-6667-49d3-bad8-4c2e7d55602a"
      },
      "execution_count": 20,
      "outputs": [
        {
          "output_type": "execute_result",
          "data": {
            "text/plain": [
              "bytes"
            ]
          },
          "metadata": {},
          "execution_count": 20
        }
      ]
    },
    {
      "cell_type": "code",
      "source": [
        "page=BeautifulSoup(response.content,\"html.parser\")      # This is done to convert the content which is in bytes to html format"
      ],
      "metadata": {
        "id": "II0heV-lNgKK"
      },
      "execution_count": 22,
      "outputs": []
    },
    {
      "cell_type": "code",
      "source": [
        "main_link=page.find(\"span\",attrs={\"class\":\"rush-component s-latency-cf-section\"})\n",
        "# print(main_links)\n",
        "links=main_link.find_all(\"a\",attrs={\"class\":\"a-link-normal s-underline-text s-underline-link-text s-link-style a-text-normal\"})\n",
        "print(len(links))"
      ],
      "metadata": {
        "colab": {
          "base_uri": "https://localhost:8080/"
        },
        "id": "h5zb-JAoNgNj",
        "outputId": "abf31c11-ee3c-49da-84ae-26cc87da2426"
      },
      "execution_count": 28,
      "outputs": [
        {
          "output_type": "stream",
          "name": "stdout",
          "text": [
            "16\n"
          ]
        }
      ]
    },
    {
      "cell_type": "code",
      "source": [
        "link_list=[]\n",
        "for link in links:\n",
        "    link_list.append(\"https://amazon.in\"+link.get(\"href\"))\n",
        "print(link_list[0])"
      ],
      "metadata": {
        "colab": {
          "base_uri": "https://localhost:8080/"
        },
        "id": "WTXaF00UfOm4",
        "outputId": "01fe7b3b-29cb-474f-efad-af1b620fe663"
      },
      "execution_count": 29,
      "outputs": [
        {
          "output_type": "stream",
          "name": "stdout",
          "text": [
            "https://amazon.in/Samsung-Storage-Display-Charging-Security/dp/B0DFY3XCB6/ref=sr_1_1?dib=eyJ2IjoiMSJ9.YFHwfIh7GPJJ09bm1bBIDyerTatsbYLfbLTzZOtIOI_PhS-3_IY2Fs73Ku6LbRlMMUIRqYtt8ih0RwOSY5AjE7djkg1a8IEVT1GLkiLsRtarn7IhhUQFw0LXgEHRSW_jqp9P0sCf4-dGiNL_Smsx5mJrsS3trDKgOgnavvJT3MZc85I8DY4CHSHRtWU3Pu76mUrv-7qlXFOHyK-0N0x2z2NUkz0e-fOUxtCuMey01Ts.8rkFCHy0tubhJvmvDqhKGKycmpGbRjRS3HDBNZnsCSY&dib_tag=se&keywords=phones&qid=1733588145&sr=8-1\n"
          ]
        }
      ]
    },
    {
      "cell_type": "code",
      "source": [
        "def get_title(soup):\n",
        "    try:\n",
        "        title=soup.find(\"span\",attrs={\"id\":\"productTitle\"}).text.strip()\n",
        "        brand=''\n",
        "        model=''\n",
        "        match = re.match(r\"(\\w+)\\s+([a-zA-Z]+\\s*\\d+)\", title)\n",
        "        if match:\n",
        "            brand = match.group(1).strip()  # Extracts ex: \"Apple\"\n",
        "            model = match.group(2).strip()  # Extracts ex: \"iPhone 13\"\n",
        "\n",
        "    except AttributeError:\n",
        "        title=\"\"\n",
        "    return [brand,model]"
      ],
      "metadata": {
        "id": "pNqMP88QoNot"
      },
      "execution_count": 71,
      "outputs": []
    },
    {
      "cell_type": "code",
      "source": [
        "def get_price(soup):\n",
        "    try:\n",
        "        price=soup.find(\"span\",attrs={\"class\":\"a-price-whole\"}).text.strip()\n",
        "    except AttributeError:\n",
        "        price=\"\"\n",
        "    return price"
      ],
      "metadata": {
        "id": "Dd62TiQ6oOdd"
      },
      "execution_count": 31,
      "outputs": []
    },
    {
      "cell_type": "code",
      "source": [
        "def get_rating(soup):\n",
        "    try:\n",
        "        rating=soup.find(\"span\",attrs={\"id\":\"acrPopover\"}).find(\"span\",attrs={\"class\":\"a-size-base a-color-base\"}).text.strip()\n",
        "    except AttributeError:\n",
        "        rating=\"\"\n",
        "    return rating"
      ],
      "metadata": {
        "id": "c8eSiVY_oOg5"
      },
      "execution_count": 64,
      "outputs": []
    },
    {
      "cell_type": "code",
      "source": [
        "def get_memory(soup):\n",
        "    try:\n",
        "        memory=soup.find(\"span\",attrs={\"class\":\"selection\"}).text.strip()\n",
        "    except AttributeError:\n",
        "        memory=\"\"\n",
        "    return memory"
      ],
      "metadata": {
        "id": "2VldOCb6oaCL"
      },
      "execution_count": 33,
      "outputs": []
    },
    {
      "cell_type": "code",
      "source": [
        "def availability(soup):\n",
        "  try:\n",
        "    available=soup.find(\"div\",attrs={\"id\":\"a-size-medium a-color-success\"}).find(\"span\").text.strip()\n",
        "  except AttributeError:\n",
        "    available=\"\"\n",
        "  return available"
      ],
      "metadata": {
        "id": "xgJpL9pLoaFk"
      },
      "execution_count": 34,
      "outputs": []
    },
    {
      "cell_type": "code",
      "source": [
        "phone_specs={\"Name\":[],\"Brand\":[],\"Price\":[],\"Rating\":[],\"Memory\":[],\"Availability\":[]}\n",
        "for link in link_list:\n",
        "    product_response=requests.get(link,headers=HEADER)\n",
        "    product=BeautifulSoup(product_response.content,\"html.parser\")\n",
        "    brand_model=get_title(product)\n",
        "    if brand_model and len(brand_model[0])>1 and len(brand_model[1])>1:\n",
        "      phone_specs[\"Name\"].append(brand_model[0])\n",
        "      phone_specs[\"Brand\"].append(brand_model[1])\n",
        "      phone_specs[\"Price\"].append(get_price(product))\n",
        "      phone_specs[\"Rating\"].append(get_rating(product))\n",
        "      phone_specs[\"Memory\"].append(get_memory(product))\n",
        "      phone_specs[\"Availability\"].append(availability(product))\n",
        "    else:\n",
        "      continue\n",
        "\n",
        "\n"
      ],
      "metadata": {
        "id": "GO-49Q2BfOpW",
        "colab": {
          "base_uri": "https://localhost:8080/"
        },
        "outputId": "fff1cfbd-85fc-44d5-d733-b2e2911171a4"
      },
      "execution_count": 78,
      "outputs": [
        {
          "output_type": "stream",
          "name": "stdout",
          "text": [
            "Redmi A4\n",
            "Redmi A4\n",
            "POCO M6\n",
            "Redmi A4\n",
            "Lava Yuva 3\n",
            "POCO C61\n",
            "Redmi A4\n"
          ]
        }
      ]
    },
    {
      "cell_type": "code",
      "source": [
        "print(len(phone_specs[\"Name\"]))\n",
        "print(len(phone_specs[\"Brand\"]))"
      ],
      "metadata": {
        "id": "guAe4ROOfOrv",
        "colab": {
          "base_uri": "https://localhost:8080/"
        },
        "outputId": "257ec34c-49c1-4430-8b6a-584a693dd343"
      },
      "execution_count": 79,
      "outputs": [
        {
          "output_type": "stream",
          "name": "stdout",
          "text": [
            "7\n",
            "7\n"
          ]
        }
      ]
    },
    {
      "cell_type": "code",
      "source": [
        "amazon_phone_df=pd.DataFrame.from_dict(phone_specs)\n",
        "amazon_phone_df=amazon_phone_df.dropna(subset=['Name'])\n",
        "amazon_phone_df.to_csv(\"amazon_phones.csv\",header=True,index=False)"
      ],
      "metadata": {
        "id": "qOlvUBUnfOuP"
      },
      "execution_count": 81,
      "outputs": []
    },
    {
      "cell_type": "code",
      "source": [],
      "metadata": {
        "id": "8Py3mfAAfOw1"
      },
      "execution_count": null,
      "outputs": []
    },
    {
      "cell_type": "code",
      "source": [],
      "metadata": {
        "id": "snloqOE4fOzZ"
      },
      "execution_count": null,
      "outputs": []
    },
    {
      "cell_type": "code",
      "source": [],
      "metadata": {
        "id": "jbIZjEt2fO2A"
      },
      "execution_count": null,
      "outputs": []
    },
    {
      "cell_type": "code",
      "source": [],
      "metadata": {
        "id": "M3y0P1yMfO4z"
      },
      "execution_count": null,
      "outputs": []
    },
    {
      "cell_type": "code",
      "source": [],
      "metadata": {
        "id": "-lzwoXI_fO7g"
      },
      "execution_count": null,
      "outputs": []
    },
    {
      "cell_type": "code",
      "source": [],
      "metadata": {
        "id": "Nuym4j5HfO--"
      },
      "execution_count": null,
      "outputs": []
    }
  ]
}